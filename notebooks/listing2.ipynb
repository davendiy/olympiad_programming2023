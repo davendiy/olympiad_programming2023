{
 "cells": [
  {
   "cell_type": "code",
   "execution_count": 4,
   "id": "043ac419",
   "metadata": {},
   "outputs": [],
   "source": [
    "import dis "
   ]
  },
  {
   "cell_type": "code",
   "execution_count": 5,
   "id": "2fd99c37",
   "metadata": {},
   "outputs": [
    {
     "name": "stdout",
     "output_type": "stream",
     "text": [
      "  3           0 LOAD_CONST               0 (<code object find_slow at 0x7f78e0623ea0, file \"<dis>\", line 3>)\n",
      "              2 LOAD_CONST               1 ('find_slow')\n",
      "              4 MAKE_FUNCTION            0\n",
      "              6 STORE_NAME               0 (find_slow)\n",
      "\n",
      " 10           8 LOAD_CONST               2 (<code object find_and_sort at 0x7f78e062bbe0, file \"<dis>\", line 10>)\n",
      "             10 LOAD_CONST               3 ('find_and_sort')\n",
      "             12 MAKE_FUNCTION            0\n",
      "             14 STORE_NAME               1 (find_and_sort)\n",
      "\n",
      " 18          16 LOAD_CONST               4 (<code object some_print at 0x7f78e44e8df0, file \"<dis>\", line 18>)\n",
      "             18 LOAD_CONST               5 ('some_print')\n",
      "             20 MAKE_FUNCTION            0\n",
      "             22 STORE_NAME               2 (some_print)\n",
      "\n",
      " 23          24 LOAD_NAME                3 (range)\n",
      "             26 LOAD_CONST               6 (10000)\n",
      "             28 CALL_FUNCTION            1\n",
      "             30 GET_ITER\n",
      "        >>   32 FOR_ITER                48 (to 82)\n",
      "             34 STORE_NAME               4 (_)\n",
      "\n",
      " 24          36 LOAD_NAME                0 (find_slow)\n",
      "             38 BUILD_LIST               0\n",
      "             40 LOAD_CONST               7 ((1, 2, 3, 6, 2, 4))\n",
      "             42 LIST_EXTEND              1\n",
      "             44 LOAD_CONST               8 (10)\n",
      "             46 CALL_FUNCTION            2\n",
      "             48 POP_TOP\n",
      "\n",
      " 25          50 LOAD_NAME                1 (find_and_sort)\n",
      "             52 BUILD_LIST               0\n",
      "             54 LOAD_CONST               9 ((1, 1, 1, 1, 2, 2, 8))\n",
      "             56 LIST_EXTEND              1\n",
      "             58 LOAD_NAME                5 (list)\n",
      "             60 LOAD_NAME                3 (range)\n",
      "             62 LOAD_CONST              10 (100)\n",
      "             64 LOAD_CONST              11 (1)\n",
      "             66 LOAD_CONST              12 (-1)\n",
      "             68 CALL_FUNCTION            3\n",
      "             70 CALL_FUNCTION            1\n",
      "             72 BINARY_ADD\n",
      "             74 LOAD_CONST              13 (-2)\n",
      "             76 CALL_FUNCTION            2\n",
      "             78 POP_TOP\n",
      "             80 JUMP_ABSOLUTE           32\n",
      "\n",
      " 28     >>   82 LOAD_NAME                2 (some_print)\n",
      "             84 CALL_FUNCTION            0\n",
      "             86 POP_TOP\n",
      "             88 LOAD_CONST              14 (None)\n",
      "             90 RETURN_VALUE\n",
      "\n",
      "Disassembly of <code object find_slow at 0x7f78e0623ea0, file \"<dis>\", line 3>:\n",
      "  4           0 LOAD_FAST                0 (arr)\n",
      "              2 GET_ITER\n",
      "        >>    4 FOR_ITER                18 (to 24)\n",
      "              6 STORE_FAST               2 (el)\n",
      "\n",
      "  5           8 LOAD_FAST                2 (el)\n",
      "             10 LOAD_FAST                1 (k)\n",
      "             12 COMPARE_OP               2 (==)\n",
      "             14 POP_JUMP_IF_FALSE        4\n",
      "\n",
      "  6          16 POP_TOP\n",
      "             18 LOAD_CONST               1 (True)\n",
      "             20 RETURN_VALUE\n",
      "             22 JUMP_ABSOLUTE            4\n",
      "\n",
      "  7     >>   24 LOAD_CONST               2 (False)\n",
      "             26 RETURN_VALUE\n",
      "\n",
      "Disassembly of <code object find_and_sort at 0x7f78e062bbe0, file \"<dis>\", line 10>:\n",
      " 11           0 LOAD_FAST                0 (arr)\n",
      "              2 LOAD_METHOD              0 (sort)\n",
      "              4 CALL_METHOD              0\n",
      "              6 POP_TOP\n",
      "\n",
      " 12           8 LOAD_FAST                0 (arr)\n",
      "             10 GET_ITER\n",
      "        >>   12 FOR_ITER                18 (to 32)\n",
      "             14 STORE_FAST               2 (el)\n",
      "\n",
      " 13          16 LOAD_FAST                2 (el)\n",
      "             18 LOAD_FAST                1 (k)\n",
      "             20 COMPARE_OP               2 (==)\n",
      "             22 POP_JUMP_IF_FALSE       12\n",
      "\n",
      " 14          24 POP_TOP\n",
      "             26 LOAD_CONST               1 (True)\n",
      "             28 RETURN_VALUE\n",
      "             30 JUMP_ABSOLUTE           12\n",
      "\n",
      " 15     >>   32 LOAD_CONST               2 (False)\n",
      "             34 RETURN_VALUE\n",
      "\n",
      "Disassembly of <code object some_print at 0x7f78e44e8df0, file \"<dis>\", line 18>:\n",
      " 19           0 LOAD_GLOBAL              0 (print)\n",
      "              2 LOAD_CONST               1 ('some text')\n",
      "              4 CALL_FUNCTION            1\n",
      "              6 POP_TOP\n",
      "              8 LOAD_CONST               0 (None)\n",
      "             10 RETURN_VALUE\n"
     ]
    }
   ],
   "source": [
    "with open('slow_example.py') as file: \n",
    "    program = file.read() \n",
    "    \n",
    "dis.dis(program)"
   ]
  },
  {
   "cell_type": "code",
   "execution_count": 2,
   "id": "7882e882",
   "metadata": {},
   "outputs": [
    {
     "name": "stdout",
     "output_type": "stream",
     "text": [
      "\r\n",
      "\r\n",
      "def find_slow(arr, k): \r\n",
      "    for el in arr: \r\n",
      "        if el == k: \r\n",
      "            return True \r\n",
      "    return False \r\n",
      "\r\n",
      "\r\n",
      "def find_and_sort(arr, k): \r\n",
      "    arr.sort() \r\n",
      "    for el in arr: \r\n",
      "        if el == k:\r\n",
      "            return True \r\n",
      "    return False \r\n",
      "\r\n",
      "\r\n",
      "def some_print(): \r\n",
      "    print(\"some text\")\r\n",
      "\r\n",
      "\r\n",
      "\r\n",
      "for _ in range(10_000): \r\n",
      "    find_slow([1, 2, 3, 6, 2, 4], 10)\r\n",
      "    find_and_sort([1, 1, 1, 1, 2, 2, 8] + list(range(100, 1, -1)), -2) \r\n",
      "\r\n",
      "\r\n",
      "some_print()\r\n",
      "\r\n"
     ]
    }
   ],
   "source": [
    "!cat slow_example.py"
   ]
  },
  {
   "cell_type": "markdown",
   "id": "40b19caf",
   "metadata": {},
   "source": [
    "# Множення матриці, бінарне піднесення в степінь "
   ]
  },
  {
   "cell_type": "code",
   "execution_count": 12,
   "id": "71f9561c",
   "metadata": {},
   "outputs": [
    {
     "data": {
      "text/plain": [
       "10"
      ]
     },
     "execution_count": 12,
     "metadata": {},
     "output_type": "execute_result"
    }
   ],
   "source": [
    "def scalar_dot(vec1, vec2): \n",
    "    return sum(el1 * el2 for el1, el2 in zip(vec1, vec2))\n",
    "\n",
    "\n",
    "scalar_dot([1, 2, 3], [3, 2, 1])"
   ]
  },
  {
   "cell_type": "code",
   "execution_count": 13,
   "id": "4fa4ade5",
   "metadata": {},
   "outputs": [
    {
     "data": {
      "text/plain": [
       "[[1, 1, 2], [0, 0, 2], [2, 2, 1]]"
      ]
     },
     "execution_count": 13,
     "metadata": {},
     "output_type": "execute_result"
    }
   ],
   "source": [
    "def dot(matrix1, matrix2): \n",
    "    n1, m1 = len(matrix1), len(matrix1[0])\n",
    "    n2, m2 = len(matrix2), len(matrix2[0])\n",
    "    \n",
    "    assert m1 == n2, \"can't multiply matrices\"\n",
    "    \n",
    "    res = [[0] * m2 for _ in range(n1)]\n",
    "    \n",
    "    for i in range(n1): \n",
    "        for j in range(m2): \n",
    "            res[i][j] = scalar_dot(matrix1[i], [matrix2[k][j] for k in range(n2)])\n",
    "    return res \n",
    "\n",
    "\n",
    "test_a = [\n",
    "    [1, 1, 2], \n",
    "    [0, 0, 2], \n",
    "    [2, 2, 1]\n",
    "]\n",
    "\n",
    "test_e = [\n",
    "    [1, 0, 0], \n",
    "    [0, 1, 0], \n",
    "    [0, 0, 1]\n",
    "]\n",
    "\n",
    "dot(test_a, test_e)"
   ]
  },
  {
   "cell_type": "code",
   "execution_count": 14,
   "id": "26aae620",
   "metadata": {},
   "outputs": [
    {
     "data": {
      "text/plain": [
       "[[5, 5, 6], [4, 4, 2], [4, 4, 9]]"
      ]
     },
     "execution_count": 14,
     "metadata": {},
     "output_type": "execute_result"
    }
   ],
   "source": [
    "dot(test_a, test_a)"
   ]
  },
  {
   "cell_type": "code",
   "execution_count": 33,
   "id": "8a092db2",
   "metadata": {},
   "outputs": [],
   "source": [
    "def raise_power_naive(matrix, k):\n",
    "    n, m = len(matrix), len(matrix[0])\n",
    "    assert n == m \n",
    "    \n",
    "    res = [[0] * n for _ in range(n)]\n",
    "    for i in range(n): \n",
    "        res[i][i] = 1\n",
    "    \n",
    "    for _ in range(k):\n",
    "        res = dot(res, matrix)\n",
    "    \n",
    "    return res \n",
    "    "
   ]
  },
  {
   "cell_type": "code",
   "execution_count": 34,
   "id": "2d9cfc34",
   "metadata": {},
   "outputs": [
    {
     "data": {
      "text/plain": [
       "[[69, 69, 94], [44, 44, 50], [72, 72, 113]]"
      ]
     },
     "execution_count": 34,
     "metadata": {},
     "output_type": "execute_result"
    }
   ],
   "source": [
    "dot(dot(dot(test_a, test_a), test_a), test_a)"
   ]
  },
  {
   "cell_type": "code",
   "execution_count": 38,
   "id": "c68a1c16",
   "metadata": {},
   "outputs": [
    {
     "name": "stdout",
     "output_type": "stream",
     "text": [
      "174 µs ± 2.53 µs per loop (mean ± std. dev. of 7 runs, 10,000 loops each)\n"
     ]
    }
   ],
   "source": [
    "%timeit raise_power_naive(test_a, 20)"
   ]
  },
  {
   "cell_type": "code",
   "execution_count": 39,
   "id": "dfbff9e3",
   "metadata": {},
   "outputs": [
    {
     "name": "stdout",
     "output_type": "stream",
     "text": [
      "elapsed time: 0.0002536773681640625\n"
     ]
    }
   ],
   "source": [
    "import time \n",
    "\n",
    "start = time.time() \n",
    "raise_power_naive(test_a, 20)\n",
    "print('elapsed time:', time.time() - start)"
   ]
  },
  {
   "cell_type": "code",
   "execution_count": 52,
   "id": "bcc287a4",
   "metadata": {},
   "outputs": [],
   "source": [
    "import numpy as np"
   ]
  },
  {
   "cell_type": "code",
   "execution_count": 48,
   "id": "e061a48b",
   "metadata": {},
   "outputs": [],
   "source": [
    "def raise_power_binary(matrix, k): \n",
    "    \n",
    "    if k == 0: \n",
    "        return 1\n",
    "    \n",
    "    res = matrix.copy()\n",
    "    \n",
    "    while k > 1:\n",
    "        if k % 2 == 1: \n",
    "            res = dot(matrix, res) \n",
    "        \n",
    "        res = dot(res, res)\n",
    "    \n",
    "        k //= 2 \n",
    "    return res\n"
   ]
  },
  {
   "cell_type": "code",
   "execution_count": 51,
   "id": "53db10c1",
   "metadata": {},
   "outputs": [
    {
     "name": "stdout",
     "output_type": "stream",
     "text": [
      "46.4 µs ± 1.1 µs per loop (mean ± std. dev. of 7 runs, 10,000 loops each)\n"
     ]
    }
   ],
   "source": [
    "%timeit raise_power_binary(test_a, 20)"
   ]
  },
  {
   "cell_type": "code",
   "execution_count": 59,
   "id": "1a6290e7",
   "metadata": {},
   "outputs": [],
   "source": [
    "x = np.random.normal(size=(20, 20))"
   ]
  },
  {
   "cell_type": "code",
   "execution_count": 64,
   "id": "01c176db",
   "metadata": {},
   "outputs": [
    {
     "name": "stderr",
     "output_type": "stream",
     "text": [
      "/tmp/ipykernel_1699263/1454833821.py:2: RuntimeWarning: overflow encountered in double_scalars\n",
      "  return sum(el1 * el2 for el1, el2 in zip(vec1, vec2))\n",
      "/tmp/ipykernel_1699263/1454833821.py:2: RuntimeWarning: invalid value encountered in double_scalars\n",
      "  return sum(el1 * el2 for el1, el2 in zip(vec1, vec2))\n"
     ]
    },
    {
     "name": "stdout",
     "output_type": "stream",
     "text": [
      "elapsed time: 5.125658273696899\n"
     ]
    }
   ],
   "source": [
    "start = time.time()\n",
    "\n",
    "raise_power_naive(x, 2000)\n",
    "print('elapsed time:', time.time() - start)"
   ]
  },
  {
   "cell_type": "code",
   "execution_count": 67,
   "id": "33449441",
   "metadata": {},
   "outputs": [
    {
     "name": "stdout",
     "output_type": "stream",
     "text": [
      "elapsed time: 0.04893136024475098\n"
     ]
    },
    {
     "name": "stderr",
     "output_type": "stream",
     "text": [
      "/tmp/ipykernel_1699263/1454833821.py:2: RuntimeWarning: overflow encountered in double_scalars\n",
      "  return sum(el1 * el2 for el1, el2 in zip(vec1, vec2))\n",
      "/tmp/ipykernel_1699263/1454833821.py:2: RuntimeWarning: invalid value encountered in double_scalars\n",
      "  return sum(el1 * el2 for el1, el2 in zip(vec1, vec2))\n"
     ]
    }
   ],
   "source": [
    "start = time.time()\n",
    "\n",
    "raise_power_binary(x, 200000)\n",
    "print('elapsed time:', time.time() - start)"
   ]
  },
  {
   "cell_type": "markdown",
   "id": "b19466b0",
   "metadata": {},
   "source": [
    "## Приклад: числа Фібоначчі "
   ]
  },
  {
   "cell_type": "code",
   "execution_count": 76,
   "id": "1b3ea704",
   "metadata": {},
   "outputs": [
    {
     "data": {
      "text/plain": [
       "1346269"
      ]
     },
     "execution_count": 76,
     "metadata": {},
     "output_type": "execute_result"
    }
   ],
   "source": [
    "def fib(n):\n",
    "    if n <= 1: \n",
    "        return 1 \n",
    "    \n",
    "    return fib(n-1) + fib(n-2)\n",
    "\n",
    "\n",
    "fib(30)"
   ]
  },
  {
   "cell_type": "code",
   "execution_count": 80,
   "id": "f45efb3b",
   "metadata": {},
   "outputs": [],
   "source": [
    "import sys\n",
    "\n",
    "sys.setrecursionlimit(10_000)"
   ]
  },
  {
   "cell_type": "code",
   "execution_count": 81,
   "id": "0897cc33",
   "metadata": {},
   "outputs": [
    {
     "data": {
      "text/plain": [
       "6835702259575806647045396549170580107055408029365524565407553367798082454408054014954534318953113802726603726769523447478238192192714526677939943338306101405105414819705664090901813637296453767095528104868264704914433529355579148731044685634135487735897954629842516947101494253575869699893400976539545740214819819151952085089538422954565146720383752121972115725761141759114990448978941370030912401573418221496592822626"
      ]
     },
     "execution_count": 81,
     "metadata": {},
     "output_type": "execute_result"
    }
   ],
   "source": [
    "__cache = {}\n",
    "\n",
    "\n",
    "def fib_cached(n):\n",
    "    if n <= 1: \n",
    "        return 1\n",
    "    \n",
    "    if n not in __cache: \n",
    "        __cache[n] = fib_cached(n - 1) + fib_cached(n - 2)\n",
    "    \n",
    "    return __cache[n]\n",
    "\n",
    "\n",
    "fib_cached(2000)"
   ]
  },
  {
   "cell_type": "code",
   "execution_count": 107,
   "id": "b867f66f",
   "metadata": {},
   "outputs": [
    {
     "data": {
      "text/plain": [
       "[[5, 3], [3, 2]]"
      ]
     },
     "execution_count": 107,
     "metadata": {},
     "output_type": "execute_result"
    }
   ],
   "source": [
    "raise_power_binary([[1, 1], [1, 0]], 4)"
   ]
  },
  {
   "cell_type": "code",
   "execution_count": 96,
   "id": "15ac4258",
   "metadata": {},
   "outputs": [],
   "source": [
    "def fib_matrix(n): \n",
    "    \n",
    "    res = [[1, 1], [1, 0]]\n",
    "    return raise_power_(res, n)[0][0]"
   ]
  },
  {
   "cell_type": "code",
   "execution_count": 99,
   "id": "6dc58a70",
   "metadata": {},
   "outputs": [
    {
     "data": {
      "text/plain": [
       "3"
      ]
     },
     "execution_count": 99,
     "metadata": {},
     "output_type": "execute_result"
    }
   ],
   "source": [
    "fib_cached(3)"
   ]
  },
  {
   "cell_type": "code",
   "execution_count": 100,
   "id": "86721248",
   "metadata": {},
   "outputs": [
    {
     "data": {
      "text/plain": [
       "5"
      ]
     },
     "execution_count": 100,
     "metadata": {},
     "output_type": "execute_result"
    }
   ],
   "source": [
    "fib_matrix(3)"
   ]
  }
 ],
 "metadata": {
  "kernelspec": {
   "display_name": "Python [conda env:root] *",
   "language": "python",
   "name": "conda-root-py"
  },
  "language_info": {
   "codemirror_mode": {
    "name": "ipython",
    "version": 3
   },
   "file_extension": ".py",
   "mimetype": "text/x-python",
   "name": "python",
   "nbconvert_exporter": "python",
   "pygments_lexer": "ipython3",
   "version": "3.9.12"
  }
 },
 "nbformat": 4,
 "nbformat_minor": 5
}
