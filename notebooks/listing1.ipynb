{
 "cells": [
  {
   "cell_type": "markdown",
   "id": "089c0769",
   "metadata": {},
   "source": [
    "# Базовий підхід\n",
    "\n",
    "\n",
    "1. Робимо бейзлайн -- повільний простий алгоритм, який працює довго, але точно правильно \n",
    "2. Генеруємо тести для перевірки роботи бейзлайну \n",
    "3. Формулюємо гіпотезу, як можна пришвидшити алгоритм\n",
    "4. Імплементуємо гіпотезу в окремій функції\n",
    "5. Проганяємо тести чи правильно працює алгоритм\n",
    "6. Проганяємо рандомізовані тести і заміряємо час роботи \n",
    "7. Приймаємо гіпотезу або спростовуємо"
   ]
  },
  {
   "cell_type": "code",
   "execution_count": 42,
   "id": "3c98dbf2",
   "metadata": {},
   "outputs": [],
   "source": [
    "import random"
   ]
  },
  {
   "cell_type": "code",
   "execution_count": 16,
   "id": "481a8123",
   "metadata": {},
   "outputs": [],
   "source": [
    "# baseline \n",
    "\n",
    "def baseline(k, arr): \n",
    "    \"\"\"Повернути к-те найбільше число. \n",
    "    \n",
    "    Спойлер: найшвидший алгоритм працюватиме через _купу_.\n",
    "    \"\"\"\n",
    "    return sorted(arr)[k]"
   ]
  },
  {
   "cell_type": "code",
   "execution_count": 8,
   "id": "843299f4",
   "metadata": {},
   "outputs": [
    {
     "data": {
      "text/plain": [
       "1697715989.0903292"
      ]
     },
     "execution_count": 8,
     "metadata": {},
     "output_type": "execute_result"
    }
   ],
   "source": [
    "import time \n",
    "\n",
    "# time.time() повертає к-ть секунд з 1 січня 1980 року\n",
    "time.time()"
   ]
  },
  {
   "cell_type": "code",
   "execution_count": 14,
   "id": "6c54a2ba",
   "metadata": {},
   "outputs": [
    {
     "name": "stdout",
     "output_type": "stream",
     "text": [
      "0.0005075731277465821\n"
     ]
    }
   ],
   "source": [
    "times = []\n",
    "\n",
    "# заміряємо n разів роботу алгоритму і знаходимо середнє, оскільки \n",
    "# час роботи часто залежить від фонових процесів\n",
    "for _ in range(1000):\n",
    "    start_time = time.time()\n",
    "    baseline(3, [1, 2, 3, 0, -5, -2, 3] * 3000)\n",
    "    end_time = time.time()\n",
    "    times.append(end_time - start_time)\n",
    "\n",
    "print(sum(times) / len(times))"
   ]
  },
  {
   "cell_type": "code",
   "execution_count": null,
   "id": "2de96cc7",
   "metadata": {},
   "outputs": [],
   "source": [
    "import random \n",
    "\n",
    "\n",
    "# гіпотетично швидший алгоритм\n",
    "def algo_v2(k, arr): \n",
    "    ...\n",
    "    \n",
    "    return ...\n",
    "\n",
    "\n",
    "\n",
    "for _ in range(10_000):\n",
    "    \n",
    "    \n",
    "    # рандомізовані тести. Бейзлайн і новий алгоритм мають видавати однакові значення\n",
    "    n = random.randint(100, 1000)\n",
    "    k = random.randint(0, n)\n",
    "    \n",
    "    arr = [random.random(-10, 10) for _ in range(n)]\n",
    "\n",
    "    result1 = baseline(k, arr)\n",
    "    resutl2 = algo_v2(k, arr)\n",
    "    \n",
    "    if result1 != result2: \n",
    "        print('wrong answer for', k, arr)\n"
   ]
  },
  {
   "cell_type": "markdown",
   "id": "22547b81",
   "metadata": {},
   "source": [
    "# Піднесення числа в степінь "
   ]
  },
  {
   "cell_type": "code",
   "execution_count": null,
   "id": "39ef2345",
   "metadata": {},
   "outputs": [],
   "source": [
    "n, k\n",
    "\n",
    "n ** k"
   ]
  },
  {
   "cell_type": "code",
   "execution_count": 17,
   "id": "62e70f08",
   "metadata": {},
   "outputs": [],
   "source": [
    "def baseline(n, k): \n",
    "    \n",
    "    # просто перемножаємо число само на себе\n",
    "    res = 1\n",
    "    for i in range(k): \n",
    "        res *= n\n",
    "        \n",
    "    return res"
   ]
  },
  {
   "cell_type": "code",
   "execution_count": 43,
   "id": "c34e0da8",
   "metadata": {},
   "outputs": [],
   "source": [
    "# фіксовані тести \n",
    "assert baseline(2, 4) == 16 \n",
    "assert baseline(1, 10) == 1\n",
    "assert baseline(-1, 10) == 1\n",
    "assert baseline(0, 10) == 0\n",
    "assert baseline(0, 0) == 1\n",
    "\n",
    "for _ in range(10_000): \n",
    "    \n",
    "    # рандомізовані тести \n",
    "    n = random.randint(0, 100)\n",
    "    k = random.randint(0, 100)\n",
    "    \n",
    "    assert baseline(n, k) == pow(n, k)"
   ]
  },
  {
   "cell_type": "code",
   "execution_count": 44,
   "id": "f6ffa78e",
   "metadata": {},
   "outputs": [],
   "source": [
    "import matplotlib.pyplot as plt "
   ]
  },
  {
   "cell_type": "markdown",
   "id": "43f15ca6",
   "metadata": {},
   "source": [
    "### порівняємо середній час роботи і намалюєм гістограмки"
   ]
  },
  {
   "cell_type": "code",
   "execution_count": 46,
   "id": "6cc7d81a",
   "metadata": {},
   "outputs": [
    {
     "name": "stdout",
     "output_type": "stream",
     "text": [
      "0.004552772045135498\n",
      "0.00026745104789733886\n"
     ]
    }
   ],
   "source": [
    "times_baseline = []\n",
    "times_pow = []\n",
    "\n",
    "for _ in range(1000):\n",
    "    \n",
    "    n = random.randint(0, 10000)\n",
    "    k = random.randint(0, 10000)\n",
    "    \n",
    "    start_time = time.time()\n",
    "    baseline(n, k)\n",
    "    end_time = time.time()\n",
    "    times_baseline.append(end_time - start_time)\n",
    "    \n",
    "    start_time = time.time()\n",
    "    pow(n, k)\n",
    "    end_time = time.time()\n",
    "    times_pow.append(end_time - start_time)\n",
    "    \n",
    "    \n",
    "print(sum(times_baseline) / len(times_baseline))\n",
    "print(sum(times_pow) / len(times_pow))\n"
   ]
  },
  {
   "cell_type": "markdown",
   "id": "e0bd29a3",
   "metadata": {},
   "source": [
    "### вбудована функція працює швидше"
   ]
  },
  {
   "cell_type": "code",
   "execution_count": 59,
   "id": "708f7cfd",
   "metadata": {},
   "outputs": [
    {
     "data": {
      "text/plain": [
       "(array([68., 40., 24., 27., 23., 20., 31., 24., 17., 21., 23., 20., 18.,\n",
       "        15., 12., 14., 16., 16., 15., 13., 14.,  8., 16., 13.,  7., 12.,\n",
       "        11., 12., 10., 23., 22., 16., 16., 10.,  6., 11., 11.,  9., 15.,\n",
       "         6., 10.,  7.,  8.,  9., 12., 11.,  8.,  7.,  8.,  6.,  8.,  5.,\n",
       "         9., 12.,  2.,  9.,  3.,  3.,  5.,  8.,  3.,  4.,  3.,  7.,  8.,\n",
       "         6.,  5.,  1.,  9.,  6.,  7.,  6.,  6.,  2.,  3.,  3.,  4.,  3.,\n",
       "         6.,  5.,  6.,  5.,  1.,  3.,  7.,  3.,  2.,  2.,  4.,  2.,  2.,\n",
       "         3.,  2.,  3.,  1.,  1.,  0.,  0.,  0.,  1.]),\n",
       " array([4.76837158e-07, 9.62495804e-06, 1.87730789e-05, 2.79211998e-05,\n",
       "        3.70693207e-05, 4.62174416e-05, 5.53655624e-05, 6.45136833e-05,\n",
       "        7.36618042e-05, 8.28099251e-05, 9.19580460e-05, 1.01106167e-04,\n",
       "        1.10254288e-04, 1.19402409e-04, 1.28550529e-04, 1.37698650e-04,\n",
       "        1.46846771e-04, 1.55994892e-04, 1.65143013e-04, 1.74291134e-04,\n",
       "        1.83439255e-04, 1.92587376e-04, 2.01735497e-04, 2.10883617e-04,\n",
       "        2.20031738e-04, 2.29179859e-04, 2.38327980e-04, 2.47476101e-04,\n",
       "        2.56624222e-04, 2.65772343e-04, 2.74920464e-04, 2.84068584e-04,\n",
       "        2.93216705e-04, 3.02364826e-04, 3.11512947e-04, 3.20661068e-04,\n",
       "        3.29809189e-04, 3.38957310e-04, 3.48105431e-04, 3.57253551e-04,\n",
       "        3.66401672e-04, 3.75549793e-04, 3.84697914e-04, 3.93846035e-04,\n",
       "        4.02994156e-04, 4.12142277e-04, 4.21290398e-04, 4.30438519e-04,\n",
       "        4.39586639e-04, 4.48734760e-04, 4.57882881e-04, 4.67031002e-04,\n",
       "        4.76179123e-04, 4.85327244e-04, 4.94475365e-04, 5.03623486e-04,\n",
       "        5.12771606e-04, 5.21919727e-04, 5.31067848e-04, 5.40215969e-04,\n",
       "        5.49364090e-04, 5.58512211e-04, 5.67660332e-04, 5.76808453e-04,\n",
       "        5.85956573e-04, 5.95104694e-04, 6.04252815e-04, 6.13400936e-04,\n",
       "        6.22549057e-04, 6.31697178e-04, 6.40845299e-04, 6.49993420e-04,\n",
       "        6.59141541e-04, 6.68289661e-04, 6.77437782e-04, 6.86585903e-04,\n",
       "        6.95734024e-04, 7.04882145e-04, 7.14030266e-04, 7.23178387e-04,\n",
       "        7.32326508e-04, 7.41474628e-04, 7.50622749e-04, 7.59770870e-04,\n",
       "        7.68918991e-04, 7.78067112e-04, 7.87215233e-04, 7.96363354e-04,\n",
       "        8.05511475e-04, 8.14659595e-04, 8.23807716e-04, 8.32955837e-04,\n",
       "        8.42103958e-04, 8.51252079e-04, 8.60400200e-04, 8.69548321e-04,\n",
       "        8.78696442e-04, 8.87844563e-04, 8.96992683e-04, 9.06140804e-04,\n",
       "        9.15288925e-04]),\n",
       " <BarContainer object of 100 artists>)"
      ]
     },
     "execution_count": 59,
     "metadata": {},
     "output_type": "execute_result"
    },
    {
     "data": {
      "image/png": "[encoded data removed]",
      "text/plain": [
       "<Figure size 432x288 with 1 Axes>"
      ]
     },
     "metadata": {
      "needs_background": "light"
     },
     "output_type": "display_data"
    }
   ],
   "source": [
    "plt.hist(times_baseline, bins=100)\n",
    "plt.hist(times_pow, bins=100)"
   ]
  },
  {
   "cell_type": "code",
   "execution_count": 61,
   "id": "b3481928",
   "metadata": {},
   "outputs": [
    {
     "data": {
      "text/plain": [
       "'0b101110110000110'"
      ]
     },
     "execution_count": 61,
     "metadata": {},
     "output_type": "execute_result"
    }
   ],
   "source": [
    "n = 12319387\n",
    "k = 23942\n",
    "\n",
    "bin(k)"
   ]
  },
  {
   "cell_type": "code",
   "execution_count": 92,
   "id": "f3af3c90",
   "metadata": {},
   "outputs": [],
   "source": [
    "import math \n",
    "\n",
    "def algo_v2(n, k): \n",
    "    \"\"\"бінарне піднесення в степінь\"\"\"\n",
    "    if n == 0 and k == 0: \n",
    "        return 1\n",
    "    \n",
    "    res = n\n",
    "    \n",
    "    while k > 1:\n",
    "        if k % 2 == 1: \n",
    "            res *= n \n",
    "        else: \n",
    "            res **= 2\n",
    "    \n",
    "        k //= 2 \n",
    "    return res"
   ]
  },
  {
   "cell_type": "code",
   "execution_count": 93,
   "id": "0071b2e3",
   "metadata": {},
   "outputs": [],
   "source": [
    "# фіксовані тести \n",
    "assert baseline(2, 4) == algo_v2(2, 4)\n",
    "assert baseline(1, 10) == algo_v2(1, 10)\n",
    "assert baseline(-1, 10) == algo_v2(-1, 10) \n",
    "assert baseline(0, 10) == algo_v2(0, 10)\n",
    "assert baseline(0, 0) == algo_v2(0, 0)"
   ]
  },
  {
   "cell_type": "markdown",
   "id": "3a838b6c",
   "metadata": {},
   "source": [
    "### порахуєм середнє і намалюєм гістограмки"
   ]
  },
  {
   "cell_type": "code",
   "execution_count": 94,
   "id": "f090f300",
   "metadata": {},
   "outputs": [
    {
     "name": "stdout",
     "output_type": "stream",
     "text": [
      "0.004639381408691406\n",
      "0.0002727560997009277\n"
     ]
    }
   ],
   "source": [
    "\n",
    "times_baseline = []\n",
    "times_algo_v2 = []\n",
    "times_pow = []\n",
    "\n",
    "for _ in range(1000):\n",
    "    \n",
    "    n = random.randint(0, 10000)\n",
    "    k = random.randint(0, 10000)\n",
    "    \n",
    "    start_time = time.time()\n",
    "    baseline(n, k)\n",
    "    end_time = time.time()\n",
    "    times_baseline.append(end_time - start_time)\n",
    "    \n",
    "    start_time = time.time()\n",
    "    pow(n, k)\n",
    "    end_time = time.time()\n",
    "    times_pow.append(end_time - start_time)\n",
    "    \n",
    "    start_time = time.time()\n",
    "    algo_v2(n, k)\n",
    "    end_time = time.time()\n",
    "    times_algo_v2.append(end_time - start_time)\n",
    "    \n",
    "    \n",
    "print(sum(times_baseline) / len(times_baseline))\n",
    "print(sum(times_pow) / len(times_pow))\n"
   ]
  },
  {
   "cell_type": "code",
   "execution_count": 100,
   "id": "2dc615c5",
   "metadata": {},
   "outputs": [
    {
     "data": {
      "text/plain": [
       "<matplotlib.legend.Legend at 0x7f9301934790>"
      ]
     },
     "execution_count": 100,
     "metadata": {},
     "output_type": "execute_result"
    },
    {
     "data": {
      "image/png": "[encoded data removed]",
      "text/plain": [
       "<Figure size 432x288 with 1 Axes>"
      ]
     },
     "metadata": {
      "needs_background": "light"
     },
     "output_type": "display_data"
    }
   ],
   "source": [
    "# plt.hist(times_baseline, bins=50, label='baseline')\n",
    "plt.hist(times_pow, bins=50, label='pow')\n",
    "plt.hist(times_algo_v2, bins=50, label='algo_v2')\n",
    "# plt.xlim([0, 0.0075])\n",
    "plt.legend()\n"
   ]
  },
  {
   "cell_type": "code",
   "execution_count": 103,
   "id": "9d718619",
   "metadata": {},
   "outputs": [
    {
     "data": {
      "text/plain": [
       "[1, 2, 3]"
      ]
     },
     "execution_count": 103,
     "metadata": {},
     "output_type": "execute_result"
    }
   ],
   "source": [
    "[1, 2, 3]"
   ]
  },
  {
   "cell_type": "code",
   "execution_count": 104,
   "id": "abb59aa0",
   "metadata": {},
   "outputs": [
    {
     "data": {
      "text/plain": [
       "999"
      ]
     },
     "execution_count": 104,
     "metadata": {},
     "output_type": "execute_result"
    }
   ],
   "source": [
    "_"
   ]
  }
 ],
 "metadata": {
  "kernelspec": {
   "display_name": "Python [conda env:root] *",
   "language": "python",
   "name": "conda-root-py"
  },
  "language_info": {
   "codemirror_mode": {
    "name": "ipython",
    "version": 3
   },
   "file_extension": ".py",
   "mimetype": "text/x-python",
   "name": "python",
   "nbconvert_exporter": "python",
   "pygments_lexer": "ipython3",
   "version": "3.9.12"
  }
 },
 "nbformat": 4,
 "nbformat_minor": 5
}
